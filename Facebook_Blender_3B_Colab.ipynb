{
  "nbformat": 4,
  "nbformat_minor": 0,
  "metadata": {
    "colab": {
      "name": "Facebook Blender 3B Colab",
      "provenance": [],
      "collapsed_sections": [],
      "machine_shape": "hm",
      "include_colab_link": true
    },
    "kernelspec": {
      "name": "python3",
      "display_name": "Python 3"
    },
    "accelerator": "GPU"
  },
  "cells": [
    {
      "cell_type": "markdown",
      "metadata": {
        "id": "view-in-github",
        "colab_type": "text"
      },
      "source": [
        "<a href=\"https://colab.research.google.com/github/chpb1982/Deep-Learning-in-Production/blob/master/Facebook_Blender_3B_Colab.ipynb\" target=\"_parent\"><img src=\"https://colab.research.google.com/assets/colab-badge.svg\" alt=\"Open In Colab\"/></a>"
      ]
    },
    {
      "cell_type": "markdown",
      "metadata": {
        "id": "FBd-YebYzlRk",
        "colab_type": "text"
      },
      "source": [
        "This Notebook runs the 3B Facebook ParlAI Blender model.  Make sure you have the GPU runtume selected before executing.\n",
        "\n",
        "Colab adaptation by Tyler Suard"
      ]
    },
    {
      "cell_type": "code",
      "metadata": {
        "id": "AfPopHFew_tY",
        "colab_type": "code",
        "colab": {}
      },
      "source": [
        "!git clone https://github.com/facebookresearch/ParlAI.git\n",
        "!cd ParlAI; python setup.py develop"
      ],
      "execution_count": 0,
      "outputs": []
    },
    {
      "cell_type": "code",
      "metadata": {
        "id": "HExNciOnxo4F",
        "colab_type": "code",
        "colab": {}
      },
      "source": [
        "%cd ParlAI/"
      ],
      "execution_count": 0,
      "outputs": []
    },
    {
      "cell_type": "code",
      "metadata": {
        "id": "3eh-Vbbk2kxA",
        "colab_type": "code",
        "colab": {}
      },
      "source": [
        "!pip install 'git+https://github.com/rsennrich/subword-nmt.git#egg=subword-nmt'"
      ],
      "execution_count": 0,
      "outputs": []
    },
    {
      "cell_type": "code",
      "metadata": {
        "id": "YMxKKda_xRaK",
        "colab_type": "code",
        "colab": {}
      },
      "source": [
        "!python parlai/scripts/safe_interactive.py -t blended_skill_talk -mf zoo:blender/blender_3B/model"
      ],
      "execution_count": 0,
      "outputs": []
    }
  ]
}